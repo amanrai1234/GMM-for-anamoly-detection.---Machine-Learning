{
 "cells": [
  {
   "cell_type": "code",
   "execution_count": 11,
   "id": "99e296c1",
   "metadata": {},
   "outputs": [],
   "source": [
    "import numpy as np\n",
    "import tensorflow as tf\n",
    "import pandas as pd\n",
    "from sklearn.ensemble import RandomForestClassifier\n",
    "from sklearn.model_selection import train_test_split\n",
    "import time\n",
    "from sklearn.preprocessing import StandardScaler\n",
    "from sklearn.mixture import GaussianMixture\n",
    "from sklearn.metrics import silhouette_score\n",
    "import sklearn.cluster\n",
    "from sklearn.datasets import make_blobs\n",
    "from numpy import quantile, where, random\n",
    "import matplotlib.pyplot as plt\n",
    "from scipy.stats import norm\n",
    "import seaborn as sns\n",
    "import matplotlib.pyplot as plt\n",
    "from sklearn.metrics import accuracy_score, confusion_matrix"
   ]
  },
  {
   "cell_type": "markdown",
   "id": "d1286122",
   "metadata": {},
   "source": [
    "# loading datasets"
   ]
  },
  {
   "cell_type": "code",
   "execution_count": 12,
   "id": "de2a9e92",
   "metadata": {},
   "outputs": [
    {
     "data": {
      "text/html": [
       "<div>\n",
       "<style scoped>\n",
       "    .dataframe tbody tr th:only-of-type {\n",
       "        vertical-align: middle;\n",
       "    }\n",
       "\n",
       "    .dataframe tbody tr th {\n",
       "        vertical-align: top;\n",
       "    }\n",
       "\n",
       "    .dataframe thead th {\n",
       "        text-align: right;\n",
       "    }\n",
       "</style>\n",
       "<table border=\"1\" class=\"dataframe\">\n",
       "  <thead>\n",
       "    <tr style=\"text-align: right;\">\n",
       "      <th></th>\n",
       "      <th>Ia</th>\n",
       "      <th>Ib</th>\n",
       "      <th>Ic</th>\n",
       "      <th>Va</th>\n",
       "      <th>Vb</th>\n",
       "      <th>Vc</th>\n",
       "    </tr>\n",
       "  </thead>\n",
       "  <tbody>\n",
       "    <tr>\n",
       "      <th>0</th>\n",
       "      <td>-151.291812</td>\n",
       "      <td>-9.677452</td>\n",
       "      <td>85.800162</td>\n",
       "      <td>0.400750</td>\n",
       "      <td>-0.132935</td>\n",
       "      <td>-0.267815</td>\n",
       "    </tr>\n",
       "    <tr>\n",
       "      <th>1</th>\n",
       "      <td>-336.186183</td>\n",
       "      <td>-76.283262</td>\n",
       "      <td>18.328897</td>\n",
       "      <td>0.312732</td>\n",
       "      <td>-0.123633</td>\n",
       "      <td>-0.189099</td>\n",
       "    </tr>\n",
       "    <tr>\n",
       "      <th>2</th>\n",
       "      <td>-502.891583</td>\n",
       "      <td>-174.648023</td>\n",
       "      <td>-80.924663</td>\n",
       "      <td>0.265728</td>\n",
       "      <td>-0.114301</td>\n",
       "      <td>-0.151428</td>\n",
       "    </tr>\n",
       "    <tr>\n",
       "      <th>3</th>\n",
       "      <td>-593.941905</td>\n",
       "      <td>-217.703359</td>\n",
       "      <td>-124.891924</td>\n",
       "      <td>0.235511</td>\n",
       "      <td>-0.104940</td>\n",
       "      <td>-0.130570</td>\n",
       "    </tr>\n",
       "    <tr>\n",
       "      <th>4</th>\n",
       "      <td>-643.663617</td>\n",
       "      <td>-224.159427</td>\n",
       "      <td>-132.282815</td>\n",
       "      <td>0.209537</td>\n",
       "      <td>-0.095554</td>\n",
       "      <td>-0.113983</td>\n",
       "    </tr>\n",
       "  </tbody>\n",
       "</table>\n",
       "</div>"
      ],
      "text/plain": [
       "           Ia          Ib          Ic        Va        Vb        Vc\n",
       "0 -151.291812   -9.677452   85.800162  0.400750 -0.132935 -0.267815\n",
       "1 -336.186183  -76.283262   18.328897  0.312732 -0.123633 -0.189099\n",
       "2 -502.891583 -174.648023  -80.924663  0.265728 -0.114301 -0.151428\n",
       "3 -593.941905 -217.703359 -124.891924  0.235511 -0.104940 -0.130570\n",
       "4 -643.663617 -224.159427 -132.282815  0.209537 -0.095554 -0.113983"
      ]
     },
     "execution_count": 12,
     "metadata": {},
     "output_type": "execute_result"
    }
   ],
   "source": [
    "# load datasets\n",
    "\n",
    "\n",
    "dataset_ana= pd.read_csv('powerline_anomaly.csv')\n",
    "dataset_norm=pd.read_csv('powerline_normal.csv')\n",
    "\n",
    "\n",
    "#dropping the columns of index which is getting duplicated\n",
    "\n",
    "datanorm=dataset_norm.drop(columns=['Unnamed: 0'])\n",
    "dataset_ana=dataset_ana.drop(columns=['Unnamed: 0'])\n",
    "dataset_ana.head()\n",
    "\n"
   ]
  },
  {
   "cell_type": "markdown",
   "id": "5c84907e",
   "metadata": {},
   "source": [
    "# split the data"
   ]
  },
  {
   "cell_type": "code",
   "execution_count": 3,
   "id": "9f1b86b1",
   "metadata": {},
   "outputs": [
    {
     "name": "stdout",
     "output_type": "stream",
     "text": [
      "(5204, 6)\n"
     ]
    }
   ],
   "source": [
    "#split normal dataset\n",
    "\n",
    "\n",
    "training_dataset_norm, test_dataset_norm = train_test_split(datanorm, train_size=0.8)\n",
    "print(training_dataset_norm.shape)"
   ]
  },
  {
   "cell_type": "code",
   "execution_count": 4,
   "id": "fd15c51c",
   "metadata": {},
   "outputs": [
    {
     "data": {
      "text/html": [
       "<div>\n",
       "<style scoped>\n",
       "    .dataframe tbody tr th:only-of-type {\n",
       "        vertical-align: middle;\n",
       "    }\n",
       "\n",
       "    .dataframe tbody tr th {\n",
       "        vertical-align: top;\n",
       "    }\n",
       "\n",
       "    .dataframe thead th {\n",
       "        text-align: right;\n",
       "    }\n",
       "</style>\n",
       "<table border=\"1\" class=\"dataframe\">\n",
       "  <thead>\n",
       "    <tr style=\"text-align: right;\">\n",
       "      <th></th>\n",
       "      <th>Ia</th>\n",
       "      <th>Ib</th>\n",
       "      <th>Ic</th>\n",
       "      <th>Va</th>\n",
       "      <th>Vb</th>\n",
       "      <th>Vc</th>\n",
       "    </tr>\n",
       "  </thead>\n",
       "  <tbody>\n",
       "    <tr>\n",
       "      <th>6792</th>\n",
       "      <td>54.045715</td>\n",
       "      <td>11.977671</td>\n",
       "      <td>-69.065806</td>\n",
       "      <td>-0.005724</td>\n",
       "      <td>0.540033</td>\n",
       "      <td>-0.534309</td>\n",
       "    </tr>\n",
       "    <tr>\n",
       "      <th>6793</th>\n",
       "      <td>34.164923</td>\n",
       "      <td>-55.664323</td>\n",
       "      <td>36.732763</td>\n",
       "      <td>0.596702</td>\n",
       "      <td>-0.193329</td>\n",
       "      <td>-0.403373</td>\n",
       "    </tr>\n",
       "    <tr>\n",
       "      <th>6794</th>\n",
       "      <td>-61.798045</td>\n",
       "      <td>30.243754</td>\n",
       "      <td>33.378962</td>\n",
       "      <td>0.151417</td>\n",
       "      <td>-0.571221</td>\n",
       "      <td>0.419804</td>\n",
       "    </tr>\n",
       "    <tr>\n",
       "      <th>6795</th>\n",
       "      <td>0.197407</td>\n",
       "      <td>-39.748699</td>\n",
       "      <td>41.748021</td>\n",
       "      <td>0.593854</td>\n",
       "      <td>-0.355475</td>\n",
       "      <td>-0.238379</td>\n",
       "    </tr>\n",
       "    <tr>\n",
       "      <th>6796</th>\n",
       "      <td>-49.692066</td>\n",
       "      <td>-9.594764</td>\n",
       "      <td>61.962494</td>\n",
       "      <td>0.345035</td>\n",
       "      <td>-0.600207</td>\n",
       "      <td>0.255173</td>\n",
       "    </tr>\n",
       "  </tbody>\n",
       "</table>\n",
       "</div>"
      ],
      "text/plain": [
       "             Ia         Ib         Ic        Va        Vb        Vc\n",
       "6792  54.045715  11.977671 -69.065806 -0.005724  0.540033 -0.534309\n",
       "6793  34.164923 -55.664323  36.732763  0.596702 -0.193329 -0.403373\n",
       "6794 -61.798045  30.243754  33.378962  0.151417 -0.571221  0.419804\n",
       "6795   0.197407 -39.748699  41.748021  0.593854 -0.355475 -0.238379\n",
       "6796 -49.692066  -9.594764  61.962494  0.345035 -0.600207  0.255173"
      ]
     },
     "execution_count": 4,
     "metadata": {},
     "output_type": "execute_result"
    }
   ],
   "source": [
    "#train head\n",
    "training_dataset_norm.head()\n",
    "#test head\n",
    "test_dataset_norm.head()\n",
    "\n",
    "output = np.array([0]*len(test_dataset_norm)+[1]*len(dataset_ana), dtype=np.float_)\n",
    "\n",
    "\n",
    "#labels=labels.to_dataframe\n",
    "\n",
    "output = pd.DataFrame(output)\n",
    "\n",
    "# concat testing and training datasets\n",
    "\n",
    "concat_dataset=pd.concat([dataset_ana, test_dataset_norm], axis=0)\n",
    "\n",
    "\n",
    "concat_dataset.reset_index(drop=True, inplace=True)\n",
    "\n",
    "\n",
    "concat_dataset.tail()"
   ]
  },
  {
   "cell_type": "markdown",
   "id": "03086dfc",
   "metadata": {},
   "source": [
    "# scale and train the model"
   ]
  },
  {
   "cell_type": "code",
   "execution_count": 5,
   "id": "ed999ba4",
   "metadata": {},
   "outputs": [],
   "source": [
    "#scaling the training set\n",
    "\n",
    "scaler = StandardScaler()\n",
    "# transform data\n",
    "training_dataset_norm = scaler.fit_transform(training_dataset_norm)\n",
    "\n",
    "#scale the tests data\n",
    "\n",
    "scalers = StandardScaler()\n",
    "concat_dataset = scalers.fit_transform(concat_dataset)\n",
    "\n",
    "\n"
   ]
  },
  {
   "cell_type": "code",
   "execution_count": 6,
   "id": "47502ac8",
   "metadata": {},
   "outputs": [
    {
     "data": {
      "text/plain": [
       "'\\nn1=0\\nn2=0\\nn3=0\\nn4=0\\nn5=0\\nn6=0\\nk=0\\nfor i in predict_train:\\n    if i==0:\\n        n1=1\\n      #  print(\"0\")\\n        k+=1\\n    if i==1:\\n        n2=1\\n       # print(\"1\")\\n        k+=1\\n    if i==2:\\n        n3=1\\n       # print(\"2\")\\n        k+=1\\n    if i==3:\\n        n4=1\\n        #print(\"3\")\\n        k+=1\\n    if i==4:\\n        n5=1\\n        #print(\"4\")\\n        k+=1\\n    if i==5:\\n        n6=1\\n        #print(\"5\")\\n        k+=1\\n#print(k) \\n#print(len(predict_train))\\n        \\n'"
      ]
     },
     "execution_count": 6,
     "metadata": {},
     "output_type": "execute_result"
    }
   ],
   "source": [
    "\n",
    "# train guassian mixture model on 5 componensts\n",
    "\n",
    "\n",
    "gmm = GaussianMixture(n_components=5, random_state=0)\n",
    "preds = gmm.fit(training_dataset_norm)\n",
    "#predict_train=preds.predict(concat_dataset)\n",
    "#print(predict_train)\n",
    "'''\n",
    "n1=0\n",
    "n2=0\n",
    "n3=0\n",
    "n4=0\n",
    "n5=0\n",
    "n6=0\n",
    "k=0\n",
    "for i in predict_train:\n",
    "    if i==0:\n",
    "        n1=1\n",
    "      #  print(\"0\")\n",
    "        k+=1\n",
    "    if i==1:\n",
    "        n2=1\n",
    "       # print(\"1\")\n",
    "        k+=1\n",
    "    if i==2:\n",
    "        n3=1\n",
    "       # print(\"2\")\n",
    "        k+=1\n",
    "    if i==3:\n",
    "        n4=1\n",
    "        #print(\"3\")\n",
    "        k+=1\n",
    "    if i==4:\n",
    "        n5=1\n",
    "        #print(\"4\")\n",
    "        k+=1\n",
    "    if i==5:\n",
    "        n6=1\n",
    "        #print(\"5\")\n",
    "        k+=1\n",
    "#print(k) \n",
    "#print(len(predict_train))\n",
    "        \n",
    "'''"
   ]
  },
  {
   "cell_type": "code",
   "execution_count": 7,
   "id": "c7ebdcbb",
   "metadata": {},
   "outputs": [
    {
     "data": {
      "text/plain": [
       "array([ True,  True,  True, ...,  True,  True,  True])"
      ]
     },
     "execution_count": 7,
     "metadata": {},
     "output_type": "execute_result"
    }
   ],
   "source": [
    "score_samp=preds.score_samples(scaler.fit_transform(concat_dataset))\n",
    "convert_numpy = np.exp(score_samp).reshape(-1, 1)\n",
    "normalize = StandardScaler().fit_transform(convert_numpy).reshape(-1)\n",
    "threshold = -norm.ppf(0.05)  \n",
    "classification = normalize < threshold\n",
    "classification"
   ]
  },
  {
   "cell_type": "markdown",
   "id": "ac2ade63",
   "metadata": {},
   "source": [
    "# evaluation\n"
   ]
  },
  {
   "cell_type": "code",
   "execution_count": 8,
   "id": "cf628fd1",
   "metadata": {},
   "outputs": [
    {
     "data": {
      "image/png": "[encoded data removed]",
      "text/plain": [
       "<Figure size 432x288 with 2 Axes>"
      ]
     },
     "metadata": {
      "needs_background": "light"
     },
     "output_type": "display_data"
    }
   ],
   "source": [
    "#Report the results using an appropriate metric\n",
    "\n",
    "conf_mat = confusion_matrix(output, classification)\n",
    "\n",
    "lang = ['(0)', '(1)']\n",
    "ax = plt.axes()\n",
    "sns.heatmap(conf_mat, square=True, annot=True, cmap='Greys', fmt='d', cbar=True, ax=ax, xticklabels=lang, yticklabels=lang)\n",
    "ax.set_title('Confusion Matrix')\n",
    "plt.xlabel('Predicted Label')\n",
    "plt.ylabel('True Label')\n",
    "plt.show()\n",
    "\n",
    "\n"
   ]
  },
  {
   "cell_type": "code",
   "execution_count": 9,
   "id": "95d082ee",
   "metadata": {},
   "outputs": [
    {
     "name": "stdout",
     "output_type": "stream",
     "text": [
      "GMM models Evauuation\n",
      "True Positives: 5486\n",
      "True Negatives: 0\n",
      "False Positives: 1301\n",
      "False Negatives: 10\n",
      "Precision: 0.8083100044202152\n",
      "Recall: 0.9981804949053857\n",
      "Accuracy: 0.8071207885831985\n"
     ]
    }
   ],
   "source": [
    "tp = conf_mat[1, 1]\n",
    "tn = conf_mat[0, 0]\n",
    "fp = conf_mat[0, 1]\n",
    "fn = conf_mat[1, 0]\n",
    "accuracy = accuracy_score(output, classification)\n",
    "print(\"GMM models Evauuation\")\n",
    "print(\"True Positives:\", tp)\n",
    "print(\"True Negatives:\", tn)\n",
    "print(\"False Positives:\", fp)\n",
    "print(\"False Negatives:\", fn)\n",
    "print(\"Precision:\", tp/(tp+fp))\n",
    "print(\"Recall:\", tp/(tp+fn))\n",
    "print(\"Accuracy:\", accuracy)"
   ]
  },
  {
   "cell_type": "code",
   "execution_count": 10,
   "id": "9ae50fd6",
   "metadata": {
    "scrolled": true
   },
   "outputs": [
    {
     "name": "stdout",
     "output_type": "stream",
     "text": [
      "[-3254.67411097 -2044.28490447 -1534.56013864 ... -1680.79647069\n",
      " -8239.31813172 -4524.32969538]\n",
      "[-3254.67411097 -2044.28490447 -1534.56013864 ... -1680.79647069\n",
      " -8239.31813172 -4524.32969538]\n",
      "[-3254.67411097 -2044.28490447 -1534.56013864 ... -1680.79647069\n",
      " -8239.31813172 -4524.32969538]\n",
      "[-3254.67411097 -2044.28490447 -1534.56013864 ... -1680.79647069\n",
      " -8239.31813172 -4524.32969538]\n",
      "[-3254.67411097 -2044.28490447 -1534.56013864 ... -1680.79647069\n",
      " -8239.31813172 -4524.32969538]\n"
     ]
    },
    {
     "data": {
      "text/plain": [
       "[<matplotlib.lines.Line2D at 0x26282246fd0>]"
      ]
     },
     "execution_count": 10,
     "metadata": {},
     "output_type": "execute_result"
    },
    {
     "data": {
      "image/png": "[encoded data removed]",
      "text/plain": [
       "<Figure size 432x288 with 1 Axes>"
      ]
     },
     "metadata": {
      "needs_background": "light"
     },
     "output_type": "display_data"
    }
   ],
   "source": [
    "# Perform a grid search on the number of components and the density threshold to \n",
    "#improve the classification results\n",
    "\n",
    "bic = np.zeros(5)\n",
    "n = np.arange(1,6)\n",
    "models = []\n",
    "#loop through each number of Gaussians and compute the BIC, and save the model\n",
    "for i,j in enumerate(n):\n",
    "    #create mixture model with j components\n",
    "    gm = GaussianMixture(n_components=j)\n",
    "    #fit the data\n",
    "    gm.fit(training_dataset_norm)\n",
    "    #computing the BIC of this models\n",
    "    \n",
    "    score_samp=preds.score_samples(scaler.fit_transform(concat_dataset))\n",
    "    print(score_samp)\n",
    "    bic[i] = gm.bic(training_dataset_norm)\n",
    "    #add  best model with j components \n",
    "    models.append(gm)\n",
    "\n",
    "plt.plot(n,bic)\n",
    "\n",
    "#print(bic)\n",
    "\n",
    "\n"
   ]
  },
  {
   "cell_type": "markdown",
   "id": "2fec1da8",
   "metadata": {},
   "source": [
    "Here the hyperparamter selection can be done by looking at the above figure where I have done grid search using BIC(Bayesian information criterion), and here I am using elbow method to do the choose the best model and I think if I go with that I might choose the number of clusters(components as 5) as I have done grid search on 5 compenents(you can just increase the number bic and np.zeros to select how many components we want). we can choose the elbow method and in the above graph it is more likely to be 2, but if we increase the number of components it can be greater than that as well, but the main idea of elbow method iss that the values don't descend that much after a certain point although in the above figure it might not look like an elbow but if we increase the number of compenets then it is likely to be more. I think 5 would be the best model because it has more accurate readings compared to the other number of components. But then if you want to make a tradeoff between computation resources and the accuracy we can choose whichever is better accordingly. But yeah the values(increasing components) after a certain point don't descend in the plot. \n",
    "\n",
    "\n",
    "\n",
    "\n",
    "\n",
    "\n",
    "\n"
   ]
  }
 ],
 "metadata": {
  "kernelspec": {
   "display_name": "Python 3",
   "language": "python",
   "name": "python3"
  },
  "language_info": {
   "codemirror_mode": {
    "name": "ipython",
    "version": 3
   },
   "file_extension": ".py",
   "mimetype": "text/x-python",
   "name": "python",
   "nbconvert_exporter": "python",
   "pygments_lexer": "ipython3",
   "version": "3.8.8"
  }
 },
 "nbformat": 4,
 "nbformat_minor": 5
}
